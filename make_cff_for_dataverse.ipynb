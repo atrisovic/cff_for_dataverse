{
 "cells": [
  {
   "cell_type": "code",
   "execution_count": 144,
   "id": "52819a11-61d8-4a33-8096-a0f05a482541",
   "metadata": {
    "tags": []
   },
   "outputs": [],
   "source": [
    "from collections import Counter\n",
    "import pandas as pd"
   ]
  },
  {
   "cell_type": "code",
   "execution_count": 138,
   "id": "e508f778-e189-4fc3-a88f-f5548f42a270",
   "metadata": {
    "tags": []
   },
   "outputs": [],
   "source": [
    "with open('git_log_20220522.txt', 'r') as file:\n",
    "    lines = file.read().split(\"\\n\")"
   ]
  },
  {
   "cell_type": "code",
   "execution_count": 139,
   "id": "32911946-a9a8-47ba-b776-bd259eda6a7b",
   "metadata": {
    "tags": []
   },
   "outputs": [],
   "source": [
    "authors = []"
   ]
  },
  {
   "cell_type": "markdown",
   "id": "80157e64-d623-4aed-a19c-aab13d9613ee",
   "metadata": {},
   "source": [
    "## Parse Dataverse log for the list of contributors"
   ]
  },
  {
   "cell_type": "code",
   "execution_count": 140,
   "id": "46819f21-51eb-4f70-b745-3270d43a587c",
   "metadata": {},
   "outputs": [],
   "source": [
    "for line in lines:\n",
    "    if line.startswith('Author: '):\n",
    "        authors.append(line[8:])"
   ]
  },
  {
   "cell_type": "code",
   "execution_count": 141,
   "id": "0a772815-1d83-41e8-acfd-4c5ef5c22e1e",
   "metadata": {
    "tags": []
   },
   "outputs": [],
   "source": [
    "author_counts = Counter(authors)"
   ]
  },
  {
   "cell_type": "code",
   "execution_count": 142,
   "id": "1cc636c9-d745-47b9-a6b8-15a63ab29604",
   "metadata": {
    "tags": []
   },
   "outputs": [],
   "source": [
    "author_dict = dict()\n",
    "for author, count in author_counts.items():\n",
    "    name = author.split(' <')[0]\n",
    "    name = name.title()\n",
    "    email = author.split(' <')[1][:-1]\n",
    "    \n",
    "    if name in author_dict.keys():\n",
    "        if count > author_dict[name][\"count\"]:\n",
    "            author_dict[name][\"count\"] = count\n",
    "            author_dict[name][\"email\"] = email\n",
    "    else:\n",
    "        author_dict[name] = dict()\n",
    "        author_dict[name][\"email\"] = email\n",
    "        author_dict[name][\"count\"] = count"
   ]
  },
  {
   "cell_type": "code",
   "execution_count": 143,
   "id": "dea6ef4a-8fdd-4477-99ce-b30e05504ea8",
   "metadata": {
    "tags": []
   },
   "outputs": [
    {
     "data": {
      "text/plain": [
       "241"
      ]
     },
     "execution_count": 143,
     "metadata": {},
     "output_type": "execute_result"
    }
   ],
   "source": [
    "len(author_dict)"
   ]
  },
  {
   "cell_type": "markdown",
   "id": "18038820-eeb9-452f-b9ca-20afe95899dc",
   "metadata": {},
   "source": [
    "## Clean up"
   ]
  },
  {
   "cell_type": "code",
   "execution_count": 176,
   "id": "5af84936-304e-40ef-955c-527cb5c6426c",
   "metadata": {
    "tags": []
   },
   "outputs": [],
   "source": [
    "df = pd.DataFrame(author_dict).T"
   ]
  },
  {
   "cell_type": "code",
   "execution_count": 177,
   "id": "b06b1f6e-a692-4a99-8bd6-16d984bec8c6",
   "metadata": {
    "tags": []
   },
   "outputs": [],
   "source": [
    "df = df.reset_index(names=\"name\")"
   ]
  },
  {
   "cell_type": "code",
   "execution_count": 178,
   "id": "10cf345f-bcab-4116-baa6-1a40821c58b9",
   "metadata": {
    "tags": []
   },
   "outputs": [],
   "source": [
    "df[\"first\"] = df[\"name\"].str.split(' ').str[0]"
   ]
  },
  {
   "cell_type": "code",
   "execution_count": 179,
   "id": "e719e2bb-dac3-4a5f-a43e-f0d1cee682b2",
   "metadata": {
    "tags": []
   },
   "outputs": [],
   "source": [
    "df[\"last\"] = df.apply(\n",
    "    lambda row: row[\"name\"][len(row[\"first\"]) + 1:], axis=1)"
   ]
  },
  {
   "cell_type": "markdown",
   "id": "156c7619-aadb-47ba-bb96-92fb5336fead",
   "metadata": {},
   "source": [
    "## Select for full names and surnames"
   ]
  },
  {
   "cell_type": "code",
   "execution_count": 180,
   "id": "806a8dbd-1919-4510-bf49-a97389549761",
   "metadata": {
    "tags": []
   },
   "outputs": [],
   "source": [
    "df = df[df[\"last\"]!=\"\"]"
   ]
  },
  {
   "cell_type": "markdown",
   "id": "710df01f-3c3f-445f-a589-acab8241aadb",
   "metadata": {},
   "source": [
    "## Remove duplicates"
   ]
  },
  {
   "cell_type": "code",
   "execution_count": 181,
   "id": "c329dd13-7879-4eaa-9633-1f160c22c3f7",
   "metadata": {
    "tags": []
   },
   "outputs": [
    {
     "data": {
      "text/html": [
       "<div>\n",
       "<style scoped>\n",
       "    .dataframe tbody tr th:only-of-type {\n",
       "        vertical-align: middle;\n",
       "    }\n",
       "\n",
       "    .dataframe tbody tr th {\n",
       "        vertical-align: top;\n",
       "    }\n",
       "\n",
       "    .dataframe thead th {\n",
       "        text-align: right;\n",
       "    }\n",
       "</style>\n",
       "<table border=\"1\" class=\"dataframe\">\n",
       "  <thead>\n",
       "    <tr style=\"text-align: right;\">\n",
       "      <th></th>\n",
       "      <th>name</th>\n",
       "      <th>email</th>\n",
       "      <th>count</th>\n",
       "      <th>first</th>\n",
       "      <th>last</th>\n",
       "    </tr>\n",
       "  </thead>\n",
       "  <tbody>\n",
       "    <tr>\n",
       "      <th>14</th>\n",
       "      <td>Robert Treacy</td>\n",
       "      <td>rtreacy@hmdc.harvard.edu</td>\n",
       "      <td>53</td>\n",
       "      <td>Robert</td>\n",
       "      <td>Treacy</td>\n",
       "    </tr>\n",
       "    <tr>\n",
       "      <th>49</th>\n",
       "      <td>Bob Treacy</td>\n",
       "      <td>rtreacy@hmdc.harvard.edu</td>\n",
       "      <td>5</td>\n",
       "      <td>Bob</td>\n",
       "      <td>Treacy</td>\n",
       "    </tr>\n",
       "    <tr>\n",
       "      <th>85</th>\n",
       "      <td>Slava Tykhonov</td>\n",
       "      <td>4tikhonov@gmail.com</td>\n",
       "      <td>1</td>\n",
       "      <td>Slava</td>\n",
       "      <td>Tykhonov</td>\n",
       "    </tr>\n",
       "    <tr>\n",
       "      <th>94</th>\n",
       "      <td>Peter Kiraly</td>\n",
       "      <td>peter.kiraly@gwdg.de</td>\n",
       "      <td>104</td>\n",
       "      <td>Peter</td>\n",
       "      <td>Kiraly</td>\n",
       "    </tr>\n",
       "    <tr>\n",
       "      <th>95</th>\n",
       "      <td>Ken Mankoff</td>\n",
       "      <td>mankoff@gmail.com</td>\n",
       "      <td>3</td>\n",
       "      <td>Ken</td>\n",
       "      <td>Mankoff</td>\n",
       "    </tr>\n",
       "    <tr>\n",
       "      <th>96</th>\n",
       "      <td>Kenneth D. Mankoff</td>\n",
       "      <td>mankoff@gmail.com</td>\n",
       "      <td>1</td>\n",
       "      <td>Kenneth</td>\n",
       "      <td>D. Mankoff</td>\n",
       "    </tr>\n",
       "    <tr>\n",
       "      <th>126</th>\n",
       "      <td>Király Péter</td>\n",
       "      <td>peter.kiraly@gwdg.de</td>\n",
       "      <td>2</td>\n",
       "      <td>Király</td>\n",
       "      <td>Péter</td>\n",
       "    </tr>\n",
       "    <tr>\n",
       "      <th>131</th>\n",
       "      <td>Carlos Mcgregor</td>\n",
       "      <td>c.mcgregormuro@mail.utoronto.ca</td>\n",
       "      <td>13</td>\n",
       "      <td>Carlos</td>\n",
       "      <td>Mcgregor</td>\n",
       "    </tr>\n",
       "    <tr>\n",
       "      <th>145</th>\n",
       "      <td>Carlos Mc Gregor</td>\n",
       "      <td>c.mcgregormuro@mail.utoronto.ca</td>\n",
       "      <td>1</td>\n",
       "      <td>Carlos</td>\n",
       "      <td>Mc Gregor</td>\n",
       "    </tr>\n",
       "    <tr>\n",
       "      <th>177</th>\n",
       "      <td>Sarah Ferry</td>\n",
       "      <td>ferrys@bu.edu</td>\n",
       "      <td>112</td>\n",
       "      <td>Sarah</td>\n",
       "      <td>Ferry</td>\n",
       "    </tr>\n",
       "    <tr>\n",
       "      <th>201</th>\n",
       "      <td>Sarah F</td>\n",
       "      <td>ferrys@bu.edu</td>\n",
       "      <td>15</td>\n",
       "      <td>Sarah</td>\n",
       "      <td>F</td>\n",
       "    </tr>\n",
       "    <tr>\n",
       "      <th>204</th>\n",
       "      <td>Vyacheslav Tykhonov</td>\n",
       "      <td>4tikhonov@gmail.com</td>\n",
       "      <td>10</td>\n",
       "      <td>Vyacheslav</td>\n",
       "      <td>Tykhonov</td>\n",
       "    </tr>\n",
       "  </tbody>\n",
       "</table>\n",
       "</div>"
      ],
      "text/plain": [
       "                    name                            email count       first  \\\n",
       "14         Robert Treacy         rtreacy@hmdc.harvard.edu    53      Robert   \n",
       "49            Bob Treacy         rtreacy@hmdc.harvard.edu     5         Bob   \n",
       "85        Slava Tykhonov              4tikhonov@gmail.com     1       Slava   \n",
       "94          Peter Kiraly             peter.kiraly@gwdg.de   104       Peter   \n",
       "95           Ken Mankoff                mankoff@gmail.com     3         Ken   \n",
       "96    Kenneth D. Mankoff                mankoff@gmail.com     1     Kenneth   \n",
       "126         Király Péter             peter.kiraly@gwdg.de     2      Király   \n",
       "131      Carlos Mcgregor  c.mcgregormuro@mail.utoronto.ca    13      Carlos   \n",
       "145     Carlos Mc Gregor  c.mcgregormuro@mail.utoronto.ca     1      Carlos   \n",
       "177          Sarah Ferry                    ferrys@bu.edu   112       Sarah   \n",
       "201              Sarah F                    ferrys@bu.edu    15       Sarah   \n",
       "204  Vyacheslav Tykhonov              4tikhonov@gmail.com    10  Vyacheslav   \n",
       "\n",
       "           last  \n",
       "14       Treacy  \n",
       "49       Treacy  \n",
       "85     Tykhonov  \n",
       "94       Kiraly  \n",
       "95      Mankoff  \n",
       "96   D. Mankoff  \n",
       "126       Péter  \n",
       "131    Mcgregor  \n",
       "145   Mc Gregor  \n",
       "177       Ferry  \n",
       "201           F  \n",
       "204    Tykhonov  "
      ]
     },
     "execution_count": 181,
     "metadata": {},
     "output_type": "execute_result"
    }
   ],
   "source": [
    "df[df[\"email\"].duplicated(keep=False)]"
   ]
  },
  {
   "cell_type": "code",
   "execution_count": 182,
   "id": "e6be4f18-d29e-4d34-a664-8ffd81dab87e",
   "metadata": {
    "tags": []
   },
   "outputs": [],
   "source": [
    "duplicates = [49, 85, 126, 95, 145, 201]"
   ]
  },
  {
   "cell_type": "code",
   "execution_count": 183,
   "id": "aea0fee5-8833-47db-a4b4-46bf1f126a50",
   "metadata": {
    "tags": []
   },
   "outputs": [],
   "source": [
    "df = df.drop(duplicates)"
   ]
  },
  {
   "cell_type": "code",
   "execution_count": 189,
   "id": "8d7d33fd-ae32-4346-82c1-84871d501eb2",
   "metadata": {
    "tags": []
   },
   "outputs": [],
   "source": [
    "df = df.drop(columns = [\"name\", \"count\"])"
   ]
  },
  {
   "cell_type": "code",
   "execution_count": 190,
   "id": "dcf684f8-b715-48d9-a2b7-01559f20566d",
   "metadata": {
    "tags": []
   },
   "outputs": [
    {
     "data": {
      "text/plain": [
       "127"
      ]
     },
     "execution_count": 190,
     "metadata": {},
     "output_type": "execute_result"
    }
   ],
   "source": [
    "len(df)"
   ]
  },
  {
   "cell_type": "markdown",
   "id": "eb5138db-d844-4155-b3f8-a58a3ef2fba3",
   "metadata": {},
   "source": [
    "## Sort by last name"
   ]
  },
  {
   "cell_type": "code",
   "execution_count": 191,
   "id": "06564f33-29a9-4b8b-a3b7-f14c5e4ebf76",
   "metadata": {
    "tags": []
   },
   "outputs": [],
   "source": [
    "df_sorted = df.sort_values(by='last')"
   ]
  },
  {
   "cell_type": "markdown",
   "id": "a72356a6-9f16-48d1-bc4b-d2676dd6411a",
   "metadata": {},
   "source": [
    "## Export CFF"
   ]
  },
  {
   "cell_type": "code",
   "execution_count": 196,
   "id": "ca391201-0664-44ce-8bd2-1e39f782076c",
   "metadata": {
    "tags": []
   },
   "outputs": [],
   "source": [
    "formatted_data = \"\"\n",
    "for index, row in df_sorted.iterrows():\n",
    "    formatted_data += \\\n",
    "f\"\"\"  - given-names: {row['first']}\n",
    "    family-names: {row['last']}\n",
    "    email: {row['email']}\n",
    "\"\"\""
   ]
  },
  {
   "cell_type": "code",
   "execution_count": 199,
   "id": "a171f904-9e67-43e5-9760-ed9a59f11c79",
   "metadata": {
    "tags": []
   },
   "outputs": [],
   "source": [
    "draft = f\"\"\"cff-version: 1.2.0\n",
    "title: The Dataverse Software\n",
    "message: Dataverse is an open source software platform for sharing, finding, citing, and preserving research data.\n",
    "type: software\n",
    "authors:\n",
    "{ formatted_data \n",
    "}repository-code: 'https://github.com/IQSS/dataverse'\n",
    "url: 'https://dataverse.org'\n",
    "abstract: Dataverse is an open-source platform developed by the Data Science and Products team at the Institute for Quantitative Social Science and the Dataverse community. It's designed to promote the sharing, preservation, citation, and analysis of research data. In Dataverse, datasets are organized by flexible containers called \"dataverses\", which can hold one or more datasets or collections. Each dataset contains metadata that describes the data, as well as the actual deposited data and documentation files. Researchers can use Dataverse to share their data, collaborate with others, and meet the data data sharing requirements of their institutions or funders. They can store data in a wide variety of formats, control who has access to the data, and use the API for creating new modules and tools. Libraries and institutions can use Dataverse as a publishing system to provide citation, persistent identifiers (such as DOIs) and long-term access to datasets.\n",
    "keywords:\n",
    "  - research data\n",
    "  - open-source platform\n",
    "  - data repository\n",
    "  - open data\n",
    "  - open science\n",
    "license: Apache-2.0\n",
    "\"\"\""
   ]
  },
  {
   "cell_type": "code",
   "execution_count": 200,
   "id": "b7829933-faa1-4614-831c-4ee13704280c",
   "metadata": {
    "tags": []
   },
   "outputs": [],
   "source": [
    "with open('CITATION.cff', 'w') as file:\n",
    "    file.write(draft)"
   ]
  },
  {
   "cell_type": "code",
   "execution_count": null,
   "id": "aac4a399-d64c-46e1-b3c2-635a767d9084",
   "metadata": {},
   "outputs": [],
   "source": []
  }
 ],
 "metadata": {
  "kernelspec": {
   "display_name": "Python 3 (ipykernel)",
   "language": "python",
   "name": "python3"
  },
  "language_info": {
   "codemirror_mode": {
    "name": "ipython",
    "version": 3
   },
   "file_extension": ".py",
   "mimetype": "text/x-python",
   "name": "python",
   "nbconvert_exporter": "python",
   "pygments_lexer": "ipython3",
   "version": "3.10.8"
  }
 },
 "nbformat": 4,
 "nbformat_minor": 5
}
